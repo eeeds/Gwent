{
 "cells": [
  {
   "cell_type": "markdown",
   "metadata": {},
   "source": []
  },
  {
   "cell_type": "markdown",
   "metadata": {},
   "source": [
    "## This notebook is for testing scraping. I'll be using the [Gwent:The Witcher Card Game website](https://www.playgwent.com/) to scrape the information I need.\n",
    "## Tools: \n",
    "* Selenium\n",
    "* BeautifulSoup\n",
    "* Pandas\n",
    "* Jupyter Notebook."
   ]
  },
  {
   "cell_type": "code",
   "execution_count": 72,
   "metadata": {},
   "outputs": [
    {
     "name": "stderr",
     "output_type": "stream",
     "text": [
      "C:\\Users\\User\\AppData\\Local\\Temp/ipykernel_18348/1676004483.py:7: DeprecationWarning: executable_path has been deprecated, please pass in a Service object\n",
      "  driver = webdriver.Chrome('C:/Users/User/Downloads/chromedriver_win32/chromedriver.exe')\n"
     ]
    }
   ],
   "source": [
    "#selenium with chrome\n",
    "import pandas as pd \n",
    "from bs4 import BeautifulSoup\n",
    "from selenium import webdriver\n",
    "from selenium.webdriver.chrome.options import Options\n",
    "\n",
    "driver = webdriver.Chrome('C:/Users/User/Downloads/chromedriver_win32/chromedriver.exe')\n",
    "\n",
    "def get_stats(player):\n",
    "    url = 'https://www.playgwent.com/es/profile/' + player\n",
    "    driver.get(url)\n",
    "    driver.implicitly_wait(5)\n",
    "    #driver.refresh()\n",
    "    driver.implicitly_wait(5)\n",
    "    soup = BeautifulSoup(driver.page_source, 'html.parser')\n",
    "    current_stats = soup.find('table', {'class': 'c-statistics-table current-ranked'})\n",
    "    df = pd.read_html(str(current_stats))\n",
    "    df[0].rename(columns = {'Clasificación de la temporada actual':'Stats', 'Clasificación de la temporada actual.1':'value'}, inplace = True)\n",
    "    df=df[0].drop(['Clasificación de la temporada actual.2'], axis=1)\n",
    "    df.value = df.value.str.replace('partidas', '')\n",
    "    df = df.iloc[0:9,:]\n",
    "    df1 = df.set_index('Stats').T\n",
    "    df1['player'] = player\n",
    "    return df1"
   ]
  },
  {
   "cell_type": "code",
   "execution_count": 26,
   "metadata": {},
   "outputs": [],
   "source": [
    "##Test with one name that I found\n",
    "df1 = get_stats('GrandKazuzu')"
   ]
  },
  {
   "cell_type": "code",
   "execution_count": 38,
   "metadata": {},
   "outputs": [],
   "source": [
    "## Find the better 20 players of the current season\n",
    "url = 'https://masters.playgwent.com/en/rankings/masters-4/may-season'\n",
    "driver.get(url)\n",
    "driver.implicitly_wait(5)\n",
    "soup = BeautifulSoup(driver.page_source, 'html.parser')\n",
    "tables = soup.find_all('table')"
   ]
  },
  {
   "cell_type": "code",
   "execution_count": 39,
   "metadata": {},
   "outputs": [],
   "source": [
    "#Ranking\n",
    "ranking = soup.find_all('div', {'class': 'c-ranking-table__tr'})[0].find('div', {'class': 'td-number'}).text\n",
    "#Nick\n",
    "nick = soup.find_all('div', {'class': 'c-ranking-table__tr'})[0].find('div', {'class': 'td-nick'}).text\n",
    "#matches\n",
    "matches = soup.find_all('div', {'class': 'c-ranking-table__tr'})[0].find('div', {'class': 'td-matches'}).text\n",
    "#mmr\n",
    "mmr = soup.find_all('div', {'class': 'c-ranking-table__tr'})[0].find('div', {'class': 'td-mmr'}).text"
   ]
  },
  {
   "cell_type": "code",
   "execution_count": 40,
   "metadata": {},
   "outputs": [
    {
     "name": "stdout",
     "output_type": "stream",
     "text": [
      "1 GrandKazuzu 411 matches       10,377\n",
      "  \n"
     ]
    }
   ],
   "source": [
    "print(ranking, nick, matches, mmr)"
   ]
  },
  {
   "cell_type": "code",
   "execution_count": 41,
   "metadata": {},
   "outputs": [
    {
     "name": "stdout",
     "output_type": "stream",
     "text": [
      "40\n"
     ]
    }
   ],
   "source": [
    "info = soup.find_all('div', {'class': 'c-ranking-table__tr'})\n",
    "print(len(info))"
   ]
  },
  {
   "cell_type": "code",
   "execution_count": 42,
   "metadata": {},
   "outputs": [],
   "source": [
    "df_better = pd.DataFrame(columns = ['ranking', 'nick', 'matches', 'mmr'])"
   ]
  },
  {
   "cell_type": "code",
   "execution_count": 43,
   "metadata": {},
   "outputs": [],
   "source": [
    "for i in range(20):\n",
    "    ranking = info[i].find('div', {'class': 'td-number'}).text\n",
    "    nick = info[i].find('div', {'class': 'td-nick'}).text\n",
    "    matches = info[i].find('div', {'class': 'td-matches'}).text\n",
    "    mmr = info[i].find('div', {'class': 'td-mmr'}).text\n",
    "    df_better.loc[i] = [ranking, nick, matches, mmr]\n"
   ]
  },
  {
   "cell_type": "code",
   "execution_count": 89,
   "metadata": {},
   "outputs": [],
   "source": [
    "df_by_player = pd.DataFrame(columns = ['value','Total', 'Victorias', 'Derrotas', 'Draws', 'Reinos del Norte',\n",
    "       'Sindicato', 'Monstruos', \"Scoia'tael\", 'Nilfgaard', 'player'] )\n",
    "df_by_player.set_index('value', inplace=True)"
   ]
  },
  {
   "cell_type": "code",
   "execution_count": 99,
   "metadata": {},
   "outputs": [],
   "source": [
    "for i in df_better.nick:\n",
    "    df_by_player = pd.concat([df_by_player, get_stats(i)])"
   ]
  },
  {
   "cell_type": "code",
   "execution_count": null,
   "metadata": {},
   "outputs": [],
   "source": []
  }
 ],
 "metadata": {
  "interpreter": {
   "hash": "afb734500600fd355917ca529030176ea0ca205570884b88f2f6f7d791fd3fbe"
  },
  "kernelspec": {
   "display_name": "Python 3.10.1 64-bit",
   "language": "python",
   "name": "python3"
  },
  "language_info": {
   "codemirror_mode": {
    "name": "ipython",
    "version": 3
   },
   "file_extension": ".py",
   "mimetype": "text/x-python",
   "name": "python",
   "nbconvert_exporter": "python",
   "pygments_lexer": "ipython3",
   "version": "3.10.1"
  },
  "orig_nbformat": 4
 },
 "nbformat": 4,
 "nbformat_minor": 2
}
