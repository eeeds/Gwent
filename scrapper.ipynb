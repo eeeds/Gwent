{
 "cells": [
  {
   "cell_type": "markdown",
   "metadata": {},
   "source": []
  },
  {
   "cell_type": "markdown",
   "metadata": {},
   "source": [
    "## This notebook is for testing scraping. I'll be using the [Gwent:The Witcher Card Game website](https://www.playgwent.com/) to scrape the information I need.\n",
    "## Tools: \n",
    "* Selenium\n",
    "* BeautifulSoup\n",
    "* Pandas\n",
    "* Jupyter Notebook."
   ]
  },
  {
   "cell_type": "code",
   "execution_count": 72,
   "metadata": {},
   "outputs": [
    {
     "name": "stderr",
     "output_type": "stream",
     "text": [
      "C:\\Users\\User\\AppData\\Local\\Temp/ipykernel_18348/1676004483.py:7: DeprecationWarning: executable_path has been deprecated, please pass in a Service object\n",
      "  driver = webdriver.Chrome('C:/Users/User/Downloads/chromedriver_win32/chromedriver.exe')\n"
     ]
    }
   ],
   "source": [
    "#selenium with chrome\n",
    "import pandas as pd \n",
    "from bs4 import BeautifulSoup\n",
    "from selenium import webdriver\n",
    "from selenium.webdriver.chrome.options import Options\n",
    "\n",
    "driver = webdriver.Chrome('C:/Users/User/Downloads/chromedriver_win32/chromedriver.exe')\n",
    "\n",
    "def get_stats(player):\n",
    "    url = 'https://www.playgwent.com/es/profile/' + player\n",
    "    driver.get(url)\n",
    "    driver.implicitly_wait(5)\n",
    "    #driver.refresh()\n",
    "    driver.implicitly_wait(5)\n",
    "    soup = BeautifulSoup(driver.page_source, 'html.parser')\n",
    "    current_stats = soup.find('table', {'class': 'c-statistics-table current-ranked'})\n",
    "    df = pd.read_html(str(current_stats))\n",
    "    df[0].rename(columns = {'Clasificación de la temporada actual':'Stats', 'Clasificación de la temporada actual.1':'value'}, inplace = True)\n",
    "    df=df[0].drop(['Clasificación de la temporada actual.2'], axis=1)\n",
    "    df.value = df.value.str.replace('partidas', '')\n",
    "    df = df.iloc[0:9,:]\n",
    "    df1 = df.set_index('Stats').T\n",
    "    df1['player'] = player\n",
    "    return df1"
   ]
  },
  {
   "cell_type": "code",
   "execution_count": 26,
   "metadata": {},
   "outputs": [],
   "source": [
    "##Test with one name that I found\n",
    "df1 = get_stats('GrandKazuzu')"
   ]
  },
  {
   "cell_type": "code",
   "execution_count": 101,
   "metadata": {},
   "outputs": [],
   "source": [
    "url_better= 'https://masters.playgwent.com/en/rankings/masters-4/may-season'\n",
    "## Obtain the best 20 players of the current season\n",
    "def better(url):\n",
    "    driver.get(url)\n",
    "    driver.implicitly_wait(5)\n",
    "    soup = BeautifulSoup(driver.page_source, 'html.parser')\n",
    "    info = soup.find_all('div', {'class': 'c-ranking-table__tr'})\n",
    "    #print(len(info))\n",
    "    df_better = pd.DataFrame(columns = ['ranking', 'nick', 'matches', 'mmr'])\n",
    "    for i in range(20):\n",
    "        ranking = info[i].find('div', {'class': 'td-number'}).text\n",
    "        nick = info[i].find('div', {'class': 'td-nick'}).text\n",
    "        matches = info[i].find('div', {'class': 'td-matches'}).text\n",
    "        mmr = info[i].find('div', {'class': 'td-mmr'}).text\n",
    "        df_better.loc[i] = [ranking, nick, matches, mmr]\n",
    "    return df_better\n"
   ]
  },
  {
   "cell_type": "code",
   "execution_count": 102,
   "metadata": {},
   "outputs": [
    {
     "name": "stdout",
     "output_type": "stream",
     "text": [
      "40\n"
     ]
    }
   ],
   "source": [
    "df_better = better(url_better)"
   ]
  },
  {
   "cell_type": "code",
   "execution_count": 103,
   "metadata": {},
   "outputs": [
    {
     "data": {
      "text/html": [
       "<div>\n",
       "<style scoped>\n",
       "    .dataframe tbody tr th:only-of-type {\n",
       "        vertical-align: middle;\n",
       "    }\n",
       "\n",
       "    .dataframe tbody tr th {\n",
       "        vertical-align: top;\n",
       "    }\n",
       "\n",
       "    .dataframe thead th {\n",
       "        text-align: right;\n",
       "    }\n",
       "</style>\n",
       "<table border=\"1\" class=\"dataframe\">\n",
       "  <thead>\n",
       "    <tr style=\"text-align: right;\">\n",
       "      <th></th>\n",
       "      <th>ranking</th>\n",
       "      <th>nick</th>\n",
       "      <th>matches</th>\n",
       "      <th>mmr</th>\n",
       "    </tr>\n",
       "  </thead>\n",
       "  <tbody>\n",
       "    <tr>\n",
       "      <th>0</th>\n",
       "      <td>1</td>\n",
       "      <td>GrandKazuzu</td>\n",
       "      <td>418 matches</td>\n",
       "      <td>10,378\\n</td>\n",
       "    </tr>\n",
       "    <tr>\n",
       "      <th>1</th>\n",
       "      <td>2</td>\n",
       "      <td>Bart933</td>\n",
       "      <td>318 matches</td>\n",
       "      <td>10,367\\n</td>\n",
       "    </tr>\n",
       "    <tr>\n",
       "      <th>2</th>\n",
       "      <td>3</td>\n",
       "      <td>John丶Sally</td>\n",
       "      <td>465 matches</td>\n",
       "      <td>10,365\\n</td>\n",
       "    </tr>\n",
       "    <tr>\n",
       "      <th>3</th>\n",
       "      <td>4</td>\n",
       "      <td>infern-ale</td>\n",
       "      <td>469 matches</td>\n",
       "      <td>10,242\\n</td>\n",
       "    </tr>\n",
       "    <tr>\n",
       "      <th>4</th>\n",
       "      <td>5</td>\n",
       "      <td>Nik_r</td>\n",
       "      <td>452 matches</td>\n",
       "      <td>10,241\\n</td>\n",
       "    </tr>\n",
       "  </tbody>\n",
       "</table>\n",
       "</div>"
      ],
      "text/plain": [
       "  ranking         nick      matches               mmr\n",
       "0       1  GrandKazuzu  418 matches        10,378\\n  \n",
       "1       2      Bart933  318 matches        10,367\\n  \n",
       "2       3   John丶Sally  465 matches        10,365\\n  \n",
       "3       4   infern-ale  469 matches        10,242\\n  \n",
       "4       5        Nik_r  452 matches        10,241\\n  "
      ]
     },
     "execution_count": 103,
     "metadata": {},
     "output_type": "execute_result"
    }
   ],
   "source": [
    "df_better.head()"
   ]
  },
  {
   "cell_type": "code",
   "execution_count": 104,
   "metadata": {},
   "outputs": [],
   "source": [
    "#Obtain more stats by player (20 best players)\n",
    "df_by_player = pd.DataFrame(columns = ['value','Total', 'Victorias', 'Derrotas', 'Draws', 'Reinos del Norte',\n",
    "       'Sindicato', 'Monstruos', \"Scoia'tael\", 'Nilfgaard', 'player'] )\n",
    "df_by_player.set_index('value', inplace=True)"
   ]
  },
  {
   "cell_type": "code",
   "execution_count": 105,
   "metadata": {},
   "outputs": [],
   "source": [
    "for i in df_better.nick:\n",
    "    df_by_player = pd.concat([df_by_player, get_stats(i)])"
   ]
  },
  {
   "cell_type": "code",
   "execution_count": 106,
   "metadata": {},
   "outputs": [
    {
     "data": {
      "text/html": [
       "<div>\n",
       "<style scoped>\n",
       "    .dataframe tbody tr th:only-of-type {\n",
       "        vertical-align: middle;\n",
       "    }\n",
       "\n",
       "    .dataframe tbody tr th {\n",
       "        vertical-align: top;\n",
       "    }\n",
       "\n",
       "    .dataframe thead th {\n",
       "        text-align: right;\n",
       "    }\n",
       "</style>\n",
       "<table border=\"1\" class=\"dataframe\">\n",
       "  <thead>\n",
       "    <tr style=\"text-align: right;\">\n",
       "      <th></th>\n",
       "      <th>Total</th>\n",
       "      <th>Victorias</th>\n",
       "      <th>Derrotas</th>\n",
       "      <th>Draws</th>\n",
       "      <th>Reinos del Norte</th>\n",
       "      <th>Sindicato</th>\n",
       "      <th>Monstruos</th>\n",
       "      <th>Scoia'tael</th>\n",
       "      <th>Nilfgaard</th>\n",
       "      <th>player</th>\n",
       "      <th>Skellige</th>\n",
       "    </tr>\n",
       "  </thead>\n",
       "  <tbody>\n",
       "    <tr>\n",
       "      <th>value</th>\n",
       "      <td>10.377 MMR415</td>\n",
       "      <td>271</td>\n",
       "      <td>140</td>\n",
       "      <td>4</td>\n",
       "      <td>84</td>\n",
       "      <td>85</td>\n",
       "      <td>113</td>\n",
       "      <td>132</td>\n",
       "      <td>1</td>\n",
       "      <td>GrandKazuzu</td>\n",
       "      <td>NaN</td>\n",
       "    </tr>\n",
       "    <tr>\n",
       "      <th>value</th>\n",
       "      <td>10.367 MMR318</td>\n",
       "      <td>221</td>\n",
       "      <td>93</td>\n",
       "      <td>4</td>\n",
       "      <td>77</td>\n",
       "      <td>107</td>\n",
       "      <td>0</td>\n",
       "      <td>75</td>\n",
       "      <td>59</td>\n",
       "      <td>Bart933</td>\n",
       "      <td>NaN</td>\n",
       "    </tr>\n",
       "    <tr>\n",
       "      <th>value</th>\n",
       "      <td>10.365 MMR465</td>\n",
       "      <td>303</td>\n",
       "      <td>154</td>\n",
       "      <td>8</td>\n",
       "      <td>NaN</td>\n",
       "      <td>82</td>\n",
       "      <td>73</td>\n",
       "      <td>123</td>\n",
       "      <td>92</td>\n",
       "      <td>John丶Sally</td>\n",
       "      <td>95</td>\n",
       "    </tr>\n",
       "    <tr>\n",
       "      <th>value</th>\n",
       "      <td>10.242 MMR467</td>\n",
       "      <td>281</td>\n",
       "      <td>174</td>\n",
       "      <td>12</td>\n",
       "      <td>68</td>\n",
       "      <td>NaN</td>\n",
       "      <td>164</td>\n",
       "      <td>76</td>\n",
       "      <td>102</td>\n",
       "      <td>infern-ale</td>\n",
       "      <td>40</td>\n",
       "    </tr>\n",
       "    <tr>\n",
       "      <th>value</th>\n",
       "      <td>10.241 MMR452</td>\n",
       "      <td>285</td>\n",
       "      <td>158</td>\n",
       "      <td>9</td>\n",
       "      <td>NaN</td>\n",
       "      <td>56</td>\n",
       "      <td>92</td>\n",
       "      <td>85</td>\n",
       "      <td>68</td>\n",
       "      <td>Nik_r</td>\n",
       "      <td>129</td>\n",
       "    </tr>\n",
       "  </tbody>\n",
       "</table>\n",
       "</div>"
      ],
      "text/plain": [
       "                Total Victorias Derrotas Draws Reinos del Norte Sindicato  \\\n",
       "value  10.377 MMR415       271      140     4               84        85    \n",
       "value  10.367 MMR318       221       93     4               77       107    \n",
       "value  10.365 MMR465       303      154     8               NaN       82    \n",
       "value  10.242 MMR467       281      174    12               68        NaN   \n",
       "value  10.241 MMR452       285      158     9               NaN       56    \n",
       "\n",
       "      Monstruos Scoia'tael Nilfgaard       player Skellige  \n",
       "value      113        132         1   GrandKazuzu      NaN  \n",
       "value        0         75        59       Bart933      NaN  \n",
       "value       73        123        92    John丶Sally      95   \n",
       "value      164         76       102    infern-ale      40   \n",
       "value       92         85        68         Nik_r     129   "
      ]
     },
     "execution_count": 106,
     "metadata": {},
     "output_type": "execute_result"
    }
   ],
   "source": [
    "df_by_player.head()\n"
   ]
  },
  {
   "cell_type": "code",
   "execution_count": null,
   "metadata": {},
   "outputs": [],
   "source": []
  }
 ],
 "metadata": {
  "interpreter": {
   "hash": "afb734500600fd355917ca529030176ea0ca205570884b88f2f6f7d791fd3fbe"
  },
  "kernelspec": {
   "display_name": "Python 3.10.1 64-bit",
   "language": "python",
   "name": "python3"
  },
  "language_info": {
   "codemirror_mode": {
    "name": "ipython",
    "version": 3
   },
   "file_extension": ".py",
   "mimetype": "text/x-python",
   "name": "python",
   "nbconvert_exporter": "python",
   "pygments_lexer": "ipython3",
   "version": "3.10.1"
  },
  "orig_nbformat": 4
 },
 "nbformat": 4,
 "nbformat_minor": 2
}
