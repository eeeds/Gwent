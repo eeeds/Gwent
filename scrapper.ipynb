{
 "cells": [
  {
   "cell_type": "markdown",
   "metadata": {},
   "source": []
  },
  {
   "cell_type": "markdown",
   "metadata": {},
   "source": [
    "## This notebook is for testing scraping. I'll be using the [Gwent:The Witcher Card Game website](https://www.playgwent.com/) to scrape the information I need.\n",
    "## Tools: \n",
    "* Selenium\n",
    "* BeautifulSoup\n",
    "* Pandas\n",
    "* Jupyter Notebook."
   ]
  },
  {
   "cell_type": "code",
   "execution_count": 1,
   "metadata": {},
   "outputs": [
    {
     "name": "stderr",
     "output_type": "stream",
     "text": [
      "C:\\Users\\User\\AppData\\Local\\Temp/ipykernel_18348/4051458721.py:7: DeprecationWarning: executable_path has been deprecated, please pass in a Service object\n",
      "  driver = webdriver.Chrome('C:/Users/User/Downloads/chromedriver_win32/chromedriver.exe')\n"
     ]
    }
   ],
   "source": [
    "#selenium with chrome\n",
    "import pandas as pd \n",
    "from bs4 import BeautifulSoup\n",
    "from selenium import webdriver\n",
    "from selenium.webdriver.chrome.options import Options\n",
    "\n",
    "driver = webdriver.Chrome('C:/Users/User/Downloads/chromedriver_win32/chromedriver.exe')\n",
    "\n",
    "def get_stats(player):\n",
    "    url = 'https://www.playgwent.com/es/profile/' + player\n",
    "    driver.get(url)\n",
    "    driver.implicitly_wait(5)\n",
    "    #driver.refresh()\n",
    "    driver.implicitly_wait(5)\n",
    "    soup = BeautifulSoup(driver.page_source, 'html.parser')\n",
    "    tables = soup.find_all('table')\n",
    "    dfs = pd.read_html(str(tables))\n",
    "    #print(dfs)\n",
    "    dfs[6].rename(columns = {'Clasificación de la temporada actual':'Stats', 'Clasificación de la temporada actual.1':'value'}, inplace = True)\n",
    "    df = dfs[6]\n",
    "    df=df.drop(['Clasificación de la temporada actual.2'], axis=1)\n",
    "    df.value = df.value.str.replace('partidas', '')\n",
    "    df = df.iloc[0:9,:]\n",
    "    df1 = df.set_index('Stats').T\n",
    "    df1['player'] = player\n",
    "    return df1"
   ]
  },
  {
   "cell_type": "code",
   "execution_count": 73,
   "metadata": {},
   "outputs": [
    {
     "data": {
      "text/html": [
       "<div>\n",
       "<style scoped>\n",
       "    .dataframe tbody tr th:only-of-type {\n",
       "        vertical-align: middle;\n",
       "    }\n",
       "\n",
       "    .dataframe tbody tr th {\n",
       "        vertical-align: top;\n",
       "    }\n",
       "\n",
       "    .dataframe thead th {\n",
       "        text-align: right;\n",
       "    }\n",
       "</style>\n",
       "<table border=\"1\" class=\"dataframe\">\n",
       "  <thead>\n",
       "    <tr style=\"text-align: right;\">\n",
       "      <th>Stats</th>\n",
       "      <th>Total</th>\n",
       "      <th>Victorias</th>\n",
       "      <th>Derrotas</th>\n",
       "      <th>Draws</th>\n",
       "      <th>Reinos del Norte</th>\n",
       "      <th>Sindicato</th>\n",
       "      <th>Monstruos</th>\n",
       "      <th>Scoia'tael</th>\n",
       "      <th>Nilfgaard</th>\n",
       "      <th>player</th>\n",
       "    </tr>\n",
       "  </thead>\n",
       "  <tbody>\n",
       "    <tr>\n",
       "      <th>value</th>\n",
       "      <td>10.377 MMR409</td>\n",
       "      <td>267</td>\n",
       "      <td>138</td>\n",
       "      <td>4</td>\n",
       "      <td>84</td>\n",
       "      <td>85</td>\n",
       "      <td>110</td>\n",
       "      <td>129</td>\n",
       "      <td>1</td>\n",
       "      <td>GrandKazuzu</td>\n",
       "    </tr>\n",
       "  </tbody>\n",
       "</table>\n",
       "</div>"
      ],
      "text/plain": [
       "Stats           Total Victorias Derrotas Draws Reinos del Norte Sindicato  \\\n",
       "value  10.377 MMR409       267      138     4               84        85    \n",
       "\n",
       "Stats Monstruos Scoia'tael Nilfgaard       player  \n",
       "value      110        129         1   GrandKazuzu  "
      ]
     },
     "execution_count": 73,
     "metadata": {},
     "output_type": "execute_result"
    }
   ],
   "source": [
    "##Test with one name that I found\n",
    "get_stats('GrandKazuzu')"
   ]
  },
  {
   "cell_type": "code",
   "execution_count": 3,
   "metadata": {},
   "outputs": [],
   "source": [
    "## Find the better 20 players of the current season\n",
    "url = 'https://masters.playgwent.com/en/rankings/masters-4/may-season'\n",
    "driver.get(url)\n",
    "driver.implicitly_wait(5)\n",
    "soup = BeautifulSoup(driver.page_source, 'html.parser')\n",
    "tables = soup.find_all('table')"
   ]
  },
  {
   "cell_type": "code",
   "execution_count": 15,
   "metadata": {},
   "outputs": [],
   "source": [
    "#Ranking\n",
    "ranking = soup.find_all('div', {'class': 'c-ranking-table__tr'})[0].find('div', {'class': 'td-number'}).text\n",
    "#Nick\n",
    "nick = soup.find_all('div', {'class': 'c-ranking-table__tr'})[0].find('div', {'class': 'td-nick'}).text\n",
    "#matches\n",
    "matches = soup.find_all('div', {'class': 'c-ranking-table__tr'})[0].find('div', {'class': 'td-matches'}).text\n",
    "#mmr\n",
    "mmr = soup.find_all('div', {'class': 'c-ranking-table__tr'})[0].find('div', {'class': 'td-mmr'}).text"
   ]
  },
  {
   "cell_type": "code",
   "execution_count": 16,
   "metadata": {},
   "outputs": [
    {
     "name": "stdout",
     "output_type": "stream",
     "text": [
      "1 GrandKazuzu 409 matches       10,377\n",
      "  \n"
     ]
    }
   ],
   "source": [
    "print(ranking, nick, matches, mmr)"
   ]
  },
  {
   "cell_type": "code",
   "execution_count": null,
   "metadata": {},
   "outputs": [],
   "source": []
  }
 ],
 "metadata": {
  "interpreter": {
   "hash": "afb734500600fd355917ca529030176ea0ca205570884b88f2f6f7d791fd3fbe"
  },
  "kernelspec": {
   "display_name": "Python 3.10.1 64-bit",
   "language": "python",
   "name": "python3"
  },
  "language_info": {
   "codemirror_mode": {
    "name": "ipython",
    "version": 3
   },
   "file_extension": ".py",
   "mimetype": "text/x-python",
   "name": "python",
   "nbconvert_exporter": "python",
   "pygments_lexer": "ipython3",
   "version": "3.10.1"
  },
  "orig_nbformat": 4
 },
 "nbformat": 4,
 "nbformat_minor": 2
}
