{
 "cells": [
  {
   "cell_type": "markdown",
   "metadata": {},
   "source": []
  },
  {
   "cell_type": "markdown",
   "metadata": {},
   "source": [
    "## This notebook is for testing scraping. I'll be using the [Gwent:The Witcher Card Game website](https://www.playgwent.com/) to scrape the information I need.\n",
    "## Tools: \n",
    "* Selenium\n",
    "* BeautifulSoup\n",
    "* Pandas\n",
    "* Jupyter Notebook."
   ]
  },
  {
   "cell_type": "code",
   "execution_count": 71,
   "metadata": {},
   "outputs": [
    {
     "name": "stderr",
     "output_type": "stream",
     "text": [
      "C:\\Users\\User\\AppData\\Local\\Temp/ipykernel_1964/3076702121.py:5: DeprecationWarning: executable_path has been deprecated, please pass in a Service object\n",
      "  driver = webdriver.Chrome('C:/Users/User/Downloads/chromedriver_win32/chromedriver.exe')\n"
     ]
    }
   ],
   "source": [
    "#selenium with chrome\n",
    "import pandas as pd \n",
    "from bs4 import BeautifulSoup\n",
    "from selenium import webdriver\n",
    "from selenium.webdriver.chrome.options import Options\n",
    "\n",
    "driver = webdriver.Chrome('C:/Users/User/Downloads/chromedriver_win32/chromedriver.exe')\n",
    "\n",
    "def get_stats(player):\n",
    "    url = 'https://www.playgwent.com/es/profile/' + player\n",
    "    driver.get(url)\n",
    "    driver.implicitly_wait(5)\n",
    "    #driver.refresh()\n",
    "    driver.implicitly_wait(5)\n",
    "    soup = BeautifulSoup(driver.page_source, 'html.parser')\n",
    "    tables = soup.find_all('table')\n",
    "    dfs = pd.read_html(str(tables))\n",
    "    #print(dfs)\n",
    "    dfs[6].rename(columns = {'Clasificación de la temporada actual':'Stats', 'Clasificación de la temporada actual.1':'value'}, inplace = True)\n",
    "    df = dfs[6]\n",
    "    df=df.drop(['Clasificación de la temporada actual.2'], axis=1)\n",
    "    df.value = df.value.str.replace('partidas', '')\n",
    "    df = df.iloc[0:9,:]\n",
    "    df1 = df.set_index('Stats').T\n",
    "    df1['player'] = player\n",
    "    return df1"
   ]
  },
  {
   "cell_type": "code",
   "execution_count": 72,
   "metadata": {},
   "outputs": [
    {
     "data": {
      "text/html": [
       "<div>\n",
       "<style scoped>\n",
       "    .dataframe tbody tr th:only-of-type {\n",
       "        vertical-align: middle;\n",
       "    }\n",
       "\n",
       "    .dataframe tbody tr th {\n",
       "        vertical-align: top;\n",
       "    }\n",
       "\n",
       "    .dataframe thead th {\n",
       "        text-align: right;\n",
       "    }\n",
       "</style>\n",
       "<table border=\"1\" class=\"dataframe\">\n",
       "  <thead>\n",
       "    <tr style=\"text-align: right;\">\n",
       "      <th>Stats</th>\n",
       "      <th>Total</th>\n",
       "      <th>Victorias</th>\n",
       "      <th>Derrotas</th>\n",
       "      <th>Draws</th>\n",
       "      <th>Nilfgaard</th>\n",
       "      <th>Skellige</th>\n",
       "      <th>Monstruos</th>\n",
       "      <th>Reinos del Norte</th>\n",
       "      <th>Scoia'tael</th>\n",
       "      <th>player</th>\n",
       "    </tr>\n",
       "  </thead>\n",
       "  <tbody>\n",
       "    <tr>\n",
       "      <th>value</th>\n",
       "      <td>3.840 MMR55</td>\n",
       "      <td>31</td>\n",
       "      <td>23</td>\n",
       "      <td>1</td>\n",
       "      <td>40</td>\n",
       "      <td>15</td>\n",
       "      <td>0</td>\n",
       "      <td>0</td>\n",
       "      <td>0</td>\n",
       "      <td>darkraiDeWitt</td>\n",
       "    </tr>\n",
       "  </tbody>\n",
       "</table>\n",
       "</div>"
      ],
      "text/plain": [
       "Stats         Total Victorias Derrotas Draws Nilfgaard Skellige Monstruos  \\\n",
       "value  3.840 MMR55        31       23     1        40       15         0    \n",
       "\n",
       "Stats Reinos del Norte Scoia'tael         player  \n",
       "value               0          0   darkraiDeWitt  "
      ]
     },
     "execution_count": 72,
     "metadata": {},
     "output_type": "execute_result"
    }
   ],
   "source": [
    "get_stats('darkraiDeWitt')"
   ]
  },
  {
   "cell_type": "code",
   "execution_count": null,
   "metadata": {},
   "outputs": [],
   "source": []
  }
 ],
 "metadata": {
  "interpreter": {
   "hash": "afb734500600fd355917ca529030176ea0ca205570884b88f2f6f7d791fd3fbe"
  },
  "kernelspec": {
   "display_name": "Python 3.10.1 64-bit",
   "language": "python",
   "name": "python3"
  },
  "language_info": {
   "codemirror_mode": {
    "name": "ipython",
    "version": 3
   },
   "file_extension": ".py",
   "mimetype": "text/x-python",
   "name": "python",
   "nbconvert_exporter": "python",
   "pygments_lexer": "ipython3",
   "version": "3.10.1"
  },
  "orig_nbformat": 4
 },
 "nbformat": 4,
 "nbformat_minor": 2
}
